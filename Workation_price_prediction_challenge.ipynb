{
  "nbformat": 4,
  "nbformat_minor": 0,
  "metadata": {
    "colab": {
      "name": "Workation price prediction challenge.ipynb",
      "provenance": []
    },
    "kernelspec": {
      "name": "python3",
      "display_name": "Python 3"
    },
    "language_info": {
      "name": "python"
    }
  },
  "cells": [
    {
      "cell_type": "code",
      "metadata": {
        "id": "zu0T0e7NYH97"
      },
      "source": [
        "import numpy as np\n",
        "import pandas as pd\n",
        "import re\n",
        "\n",
        "import matplotlib.pyplot as plt\n",
        "import seaborn as sns\n",
        "import warnings;\n",
        "warnings.filterwarnings('ignore');"
      ],
      "execution_count": 442,
      "outputs": []
    },
    {
      "cell_type": "code",
      "metadata": {
        "id": "N4OTX2KbYmCr"
      },
      "source": [
        "#read training data\n",
        "train_data = pd.read_csv('/content/drive/MyDrive/Workation price prediction challenge/Train.csv')\n",
        "\n",
        "#read testing data\n",
        "test_data = pd.read_csv('/content/drive/MyDrive/Workation price prediction challenge/Test.csv')"
      ],
      "execution_count": 443,
      "outputs": []
    },
    {
      "cell_type": "code",
      "metadata": {
        "colab": {
          "base_uri": "https://localhost:8080/"
        },
        "id": "kaljkmiSY8xB",
        "outputId": "5260e0f0-568b-4183-e786-05770845e99c"
      },
      "source": [
        "train_data.shape\n"
      ],
      "execution_count": 444,
      "outputs": [
        {
          "output_type": "execute_result",
          "data": {
            "text/plain": [
              "(21000, 15)"
            ]
          },
          "metadata": {
            "tags": []
          },
          "execution_count": 444
        }
      ]
    },
    {
      "cell_type": "code",
      "metadata": {
        "colab": {
          "base_uri": "https://localhost:8080/"
        },
        "id": "GPoYbfg2ZCYo",
        "outputId": "0626aea5-5e52-4e8e-93ef-dd5206c76115"
      },
      "source": [
        "train_data.columns"
      ],
      "execution_count": 445,
      "outputs": [
        {
          "output_type": "execute_result",
          "data": {
            "text/plain": [
              "Index(['Uniq Id', 'Package Name', 'Package Type', 'Destination', 'Itinerary',\n",
              "       'Places Covered', 'Travel Date', 'Hotel Details', 'Start City',\n",
              "       'Airline', 'Flight Stops', 'Meals', 'Sightseeing Places Covered',\n",
              "       'Cancellation Rules', 'Per Person Price'],\n",
              "      dtype='object')"
            ]
          },
          "metadata": {
            "tags": []
          },
          "execution_count": 445
        }
      ]
    },
    {
      "cell_type": "code",
      "metadata": {
        "colab": {
          "base_uri": "https://localhost:8080/",
          "height": 581
        },
        "id": "a_RpLDZRZJ2R",
        "outputId": "5041f2ac-624a-4e41-cfe7-8bdf8164fdf6"
      },
      "source": [
        "train_data.head()"
      ],
      "execution_count": 446,
      "outputs": [
        {
          "output_type": "execute_result",
          "data": {
            "text/html": [
              "<div>\n",
              "<style scoped>\n",
              "    .dataframe tbody tr th:only-of-type {\n",
              "        vertical-align: middle;\n",
              "    }\n",
              "\n",
              "    .dataframe tbody tr th {\n",
              "        vertical-align: top;\n",
              "    }\n",
              "\n",
              "    .dataframe thead th {\n",
              "        text-align: right;\n",
              "    }\n",
              "</style>\n",
              "<table border=\"1\" class=\"dataframe\">\n",
              "  <thead>\n",
              "    <tr style=\"text-align: right;\">\n",
              "      <th></th>\n",
              "      <th>Uniq Id</th>\n",
              "      <th>Package Name</th>\n",
              "      <th>Package Type</th>\n",
              "      <th>Destination</th>\n",
              "      <th>Itinerary</th>\n",
              "      <th>Places Covered</th>\n",
              "      <th>Travel Date</th>\n",
              "      <th>Hotel Details</th>\n",
              "      <th>Start City</th>\n",
              "      <th>Airline</th>\n",
              "      <th>Flight Stops</th>\n",
              "      <th>Meals</th>\n",
              "      <th>Sightseeing Places Covered</th>\n",
              "      <th>Cancellation Rules</th>\n",
              "      <th>Per Person Price</th>\n",
              "    </tr>\n",
              "  </thead>\n",
              "  <tbody>\n",
              "    <tr>\n",
              "      <th>0</th>\n",
              "      <td>e788ab76d9d8cf1e6ed2f139645ca5d1</td>\n",
              "      <td>Best of Shimla and Manali Holiday from Delhi</td>\n",
              "      <td>Standard</td>\n",
              "      <td>New Delhi|Shimla|Manali|Chandigarh</td>\n",
              "      <td>1N New Delhi . 2N Shimla . 2N Manali . 1N Chan...</td>\n",
              "      <td>New Delhi|Shimla|Manali|Chandigarh</td>\n",
              "      <td>30-07-2021</td>\n",
              "      <td>Not Available</td>\n",
              "      <td>Mumbai</td>\n",
              "      <td>Not Available</td>\n",
              "      <td>2</td>\n",
              "      <td>3</td>\n",
              "      <td>Not Available</td>\n",
              "      <td>Not Available</td>\n",
              "      <td>11509.0</td>\n",
              "    </tr>\n",
              "    <tr>\n",
              "      <th>1</th>\n",
              "      <td>178f892630ce3e335a5a41d5d83937fd</td>\n",
              "      <td>Kashmir Valley vacation</td>\n",
              "      <td>Premium</td>\n",
              "      <td>Srinagar|Pahalgam|Srinagar</td>\n",
              "      <td>1N Srinagar . 2N Pahalgam . 1N Srinagar</td>\n",
              "      <td>Srinagar|Pahalgam|Srinagar</td>\n",
              "      <td>08-12-2021</td>\n",
              "      <td>The Orchard Retreat &amp; Spa:4.6|WelcomHotel Pine...</td>\n",
              "      <td>New Delhi</td>\n",
              "      <td>IndiGo|IndiGo</td>\n",
              "      <td>0</td>\n",
              "      <td>5</td>\n",
              "      <td>Dal Lake | Avantipura Ruins | Mughal Gardens ...</td>\n",
              "      <td>Cancellation any time after making the 1st pay...</td>\n",
              "      <td>22485.5</td>\n",
              "    </tr>\n",
              "    <tr>\n",
              "      <th>2</th>\n",
              "      <td>f060f2954840503cc2fdaf495357b7df</td>\n",
              "      <td>Might of Mewar- Udaipur and Chittorgarh</td>\n",
              "      <td>Luxury</td>\n",
              "      <td>Udaipur|Chittorgarh</td>\n",
              "      <td>2N Udaipur . 1N Chittorgarh</td>\n",
              "      <td>Udaipur|Chittorgarh</td>\n",
              "      <td>26-04-2021</td>\n",
              "      <td>The Ananta:4.4|juSTa Lake Nahargarh Palace:4</td>\n",
              "      <td>New Delhi</td>\n",
              "      <td>IndiGo</td>\n",
              "      <td>0</td>\n",
              "      <td>4</td>\n",
              "      <td>Lake Pichola | Jag Mandir Palace | Saheliyon ...</td>\n",
              "      <td>Cancellation any time after making the 1st pay...</td>\n",
              "      <td>12421.5</td>\n",
              "    </tr>\n",
              "    <tr>\n",
              "      <th>3</th>\n",
              "      <td>32a19a6c171e67448f2346da46c619dc</td>\n",
              "      <td>Colorful Kerala ( Romantic Getaway )</td>\n",
              "      <td>Premium</td>\n",
              "      <td>Munnar|Kumarakom|Allepey|Kovalam and Poovar</td>\n",
              "      <td>2N Munnar . 1N Kumarakom . 1N Allepey . 2N Kov...</td>\n",
              "      <td>Munnar|Kumarakom|Allepey|Kovalam and Poovar</td>\n",
              "      <td>27-08-2021</td>\n",
              "      <td>Elixir Hills Suites Resort &amp; Spa-MMT Holidays ...</td>\n",
              "      <td>New Delhi</td>\n",
              "      <td>IndiGo</td>\n",
              "      <td>0</td>\n",
              "      <td>5</td>\n",
              "      <td>Mattupetty Dam | Echo Point | Tata Tea Museum...</td>\n",
              "      <td>Cancellation any time after making the 1st pay...</td>\n",
              "      <td>35967.0</td>\n",
              "    </tr>\n",
              "    <tr>\n",
              "      <th>4</th>\n",
              "      <td>107b068aa0ca03bc6248966f594d105f</td>\n",
              "      <td>A Week In Bangkok &amp; Pattaya</td>\n",
              "      <td>Premium</td>\n",
              "      <td>Pattaya|Bangkok</td>\n",
              "      <td>4N Pattaya . 3N Bangkok</td>\n",
              "      <td>Pattaya|Bangkok</td>\n",
              "      <td>12-12-2021</td>\n",
              "      <td>Dusit Thani Pattaya - MMT Special:4.5|Amari Wa...</td>\n",
              "      <td>New Delhi</td>\n",
              "      <td>Spicejet|Go Air</td>\n",
              "      <td>0</td>\n",
              "      <td>5</td>\n",
              "      <td>Coral Island Tour with Indian Lunch, Join Spe...</td>\n",
              "      <td>Cancellation any time after making the 1st pay...</td>\n",
              "      <td>25584.0</td>\n",
              "    </tr>\n",
              "  </tbody>\n",
              "</table>\n",
              "</div>"
            ],
            "text/plain": [
              "                            Uniq Id  ... Per Person Price\n",
              "0  e788ab76d9d8cf1e6ed2f139645ca5d1  ...          11509.0\n",
              "1  178f892630ce3e335a5a41d5d83937fd  ...          22485.5\n",
              "2  f060f2954840503cc2fdaf495357b7df  ...          12421.5\n",
              "3  32a19a6c171e67448f2346da46c619dc  ...          35967.0\n",
              "4  107b068aa0ca03bc6248966f594d105f  ...          25584.0\n",
              "\n",
              "[5 rows x 15 columns]"
            ]
          },
          "metadata": {
            "tags": []
          },
          "execution_count": 446
        }
      ]
    },
    {
      "cell_type": "code",
      "metadata": {
        "colab": {
          "base_uri": "https://localhost:8080/"
        },
        "id": "nYt79L1vZq1v",
        "outputId": "ebdf0dfc-ce0e-45f9-810b-3e4416f4f692"
      },
      "source": [
        "#checking for null value\n",
        "train_data.isnull().sum()\n"
      ],
      "execution_count": 447,
      "outputs": [
        {
          "output_type": "execute_result",
          "data": {
            "text/plain": [
              "Uniq Id                       0\n",
              "Package Name                  0\n",
              "Package Type                  0\n",
              "Destination                   0\n",
              "Itinerary                     0\n",
              "Places Covered                0\n",
              "Travel Date                   0\n",
              "Hotel Details                 0\n",
              "Start City                    0\n",
              "Airline                       0\n",
              "Flight Stops                  0\n",
              "Meals                         0\n",
              "Sightseeing Places Covered    0\n",
              "Cancellation Rules            0\n",
              "Per Person Price              0\n",
              "dtype: int64"
            ]
          },
          "metadata": {
            "tags": []
          },
          "execution_count": 447
        }
      ]
    },
    {
      "cell_type": "code",
      "metadata": {
        "colab": {
          "base_uri": "https://localhost:8080/"
        },
        "id": "ykUguhxaZ3V_",
        "outputId": "78a1becb-251c-4980-a730-2bfc9f06a90f"
      },
      "source": [
        "#check unique value of each columns\n",
        "\n",
        "for col in train_data.columns:\n",
        "    print(f' Total Unique Values are {len(train_data[col].unique())} in {col}')"
      ],
      "execution_count": 448,
      "outputs": [
        {
          "output_type": "stream",
          "text": [
            " Total Unique Values are 21000 in Uniq Id\n",
            " Total Unique Values are 2204 in Package Name\n",
            " Total Unique Values are 5 in Package Type\n",
            " Total Unique Values are 565 in Destination\n",
            " Total Unique Values are 966 in Itinerary\n",
            " Total Unique Values are 565 in Places Covered\n",
            " Total Unique Values are 495 in Travel Date\n",
            " Total Unique Values are 6060 in Hotel Details\n",
            " Total Unique Values are 2 in Start City\n",
            " Total Unique Values are 314 in Airline\n",
            " Total Unique Values are 3 in Flight Stops\n",
            " Total Unique Values are 4 in Meals\n",
            " Total Unique Values are 1714 in Sightseeing Places Covered\n",
            " Total Unique Values are 10 in Cancellation Rules\n",
            " Total Unique Values are 17138 in Per Person Price\n"
          ],
          "name": "stdout"
        }
      ]
    },
    {
      "cell_type": "code",
      "metadata": {
        "colab": {
          "base_uri": "https://localhost:8080/",
          "height": 290
        },
        "id": "7H_0oDLgaCwe",
        "outputId": "d42864eb-4141-41d6-e37a-b5e0bc9ed7f1"
      },
      "source": [
        "sns.distplot(train_data['Per Person Price'])\n",
        "plt.show()"
      ],
      "execution_count": 449,
      "outputs": [
        {
          "output_type": "display_data",
          "data": {
            "image/png": "[encoded data removed]",
            "text/plain": [
              "<Figure size 432x288 with 1 Axes>"
            ]
          },
          "metadata": {
            "tags": [],
            "needs_background": "light"
          }
        }
      ]
    },
    {
      "cell_type": "code",
      "metadata": {
        "colab": {
          "base_uri": "https://localhost:8080/",
          "height": 279
        },
        "id": "PFjqwoGSaY6b",
        "outputId": "2b46bc2e-2418-45ad-fbd3-0f07bd217703"
      },
      "source": [
        "# Log transformed dependent variable\n",
        "sns.distplot(np.log1p(train_data['Per Person Price']))\n",
        "plt.show()"
      ],
      "execution_count": 450,
      "outputs": [
        {
          "output_type": "display_data",
          "data": {
            "image/png": "[encoded data removed]",
            "text/plain": [
              "<Figure size 432x288 with 1 Axes>"
            ]
          },
          "metadata": {
            "tags": [],
            "needs_background": "light"
          }
        }
      ]
    },
    {
      "cell_type": "code",
      "metadata": {
        "colab": {
          "base_uri": "https://localhost:8080/"
        },
        "id": "VcvBrOVbawBz",
        "outputId": "8ebb8437-3d0a-4a39-b296-a63a23c18c02"
      },
      "source": [
        "train_data.columns"
      ],
      "execution_count": 451,
      "outputs": [
        {
          "output_type": "execute_result",
          "data": {
            "text/plain": [
              "Index(['Uniq Id', 'Package Name', 'Package Type', 'Destination', 'Itinerary',\n",
              "       'Places Covered', 'Travel Date', 'Hotel Details', 'Start City',\n",
              "       'Airline', 'Flight Stops', 'Meals', 'Sightseeing Places Covered',\n",
              "       'Cancellation Rules', 'Per Person Price'],\n",
              "      dtype='object')"
            ]
          },
          "metadata": {
            "tags": []
          },
          "execution_count": 451
        }
      ]
    },
    {
      "cell_type": "markdown",
      "metadata": {
        "id": "FJYS3sfHa-Ol"
      },
      "source": [
        "Data Preprocessing and Feature Engineering"
      ]
    },
    {
      "cell_type": "code",
      "metadata": {
        "id": "0T0cExUFbEyr"
      },
      "source": [
        "# 'Places Covered' was similar to 'Destination' hence removed and 'Uniq Id'  was completely unique for all rows therefore did not make sense to be used\n",
        "train_data.drop(['Places Covered', 'Uniq Id'], axis=1, inplace=True)\n",
        " \n",
        "test_data.drop(['Places Covered', 'Uniq Id'], axis=1, inplace=True)"
      ],
      "execution_count": 452,
      "outputs": []
    },
    {
      "cell_type": "code",
      "metadata": {
        "id": "nvl9qUTzbRmS"
      },
      "source": [
        "train_data['Total Destinations Covered']=train_data['Destination'].apply(lambda x : len(x.split('|')))"
      ],
      "execution_count": 453,
      "outputs": []
    },
    {
      "cell_type": "code",
      "metadata": {
        "id": "RPIH07CIeGb-"
      },
      "source": [
        "test_data['Total Destinations Covered']=test_data['Destination'].apply(lambda x : len(x.split('|')))"
      ],
      "execution_count": 454,
      "outputs": []
    },
    {
      "cell_type": "code",
      "metadata": {
        "id": "mmVRYX1feRHl"
      },
      "source": [
        "# Feature containing total no. of sightseeing places covered in a trip\n",
        "train_data['Total Sightseeing Places Covered'] = train_data['Sightseeing Places Covered'].apply(lambda x: len(x.split('|')) if x != 'Not Available' else -1)\n",
        "\n",
        "test_data['Total Sightseeing Places Covered'] = test_data['Sightseeing Places Covered'].apply(lambda x: len(x.split('|')) if x != 'Not Available' else -1)"
      ],
      "execution_count": 455,
      "outputs": []
    },
    {
      "cell_type": "code",
      "metadata": {
        "id": "z-oOYfGYejIS"
      },
      "source": [
        "# Feature having total no. of days in respective trips\n",
        "train_data['Total days'] = train_data['Itinerary'].apply(lambda x: sum(int(j) for j in (re.findall(r'[0-9]', x))))\n",
        "\n",
        "test_data['Total days'] = test_data['Itinerary'].apply(lambda x: sum(int(i) for i in (re.findall(r'[0-9]', x))))"
      ],
      "execution_count": 456,
      "outputs": []
    },
    {
      "cell_type": "code",
      "metadata": {
        "id": "CtDDf-z7ewfJ"
      },
      "source": [
        "# Replacing some ratings in word form to respective number in 'Hotel Details'\n",
        "train_data['Hotel Details'] = train_data['Hotel Details'].apply(lambda x:  x.replace('Four', '4'))\n",
        "train_data['Hotel Details'] = train_data['Hotel Details'].apply(lambda x:  x.replace('One', '1'))\n",
        "train_data['Hotel Details'] = train_data['Hotel Details'].apply(lambda x:  x.replace('Two', '2'))\n",
        "train_data['Hotel Details'] = train_data['Hotel Details'].apply(lambda x:  x.replace('Three', '3'))\n",
        "train_data['Hotel Details'] = train_data['Hotel Details'].apply(lambda x:  x.replace('Five', '5'))\n",
        "\n",
        "test_data['Hotel Details'] = test_data['Hotel Details'].apply(lambda x:  x.replace('Four', '4'))\n",
        "test_data['Hotel Details'] = test_data['Hotel Details'].apply(lambda x:  x.replace('One', '1'))\n",
        "test_data['Hotel Details'] = test_data['Hotel Details'].apply(lambda x:  x.replace('Two', '2'))\n",
        "test_data['Hotel Details'] = test_data['Hotel Details'].apply(lambda x:  x.replace('Three', '3'))\n",
        "test_data['Hotel Details'] = test_data['Hotel Details'].apply(lambda x:  x.replace('Five', '5'))\n"
      ],
      "execution_count": 457,
      "outputs": []
    },
    {
      "cell_type": "code",
      "metadata": {
        "id": "Bf3vaIeYfBOD"
      },
      "source": [
        "# Using Regular Expression to obtain Average Rating of Hotels for each trip\n",
        "train_data['Avg Rating'] = train_data['Hotel Details'].apply(lambda x: sum(float(i.replace(':', '')) for i in (re.findall(r'[:][0-9]*[.]?[0-9]+', x))) / len(re.findall(r'[:][0-9]*[.]?[0-9]+', x)) if len(re.findall(r'[:][0-9]*[.]?[0-9]+', x)) != 0 else -1)\n",
        "\n",
        "test_data['Avg Rating'] = test_data['Hotel Details'].apply(lambda x: sum(float(i.replace(':', '')) for i in (re.findall(r'[:][0-9]*[.]?[0-9]+', x))) / len(re.findall(r'[:][0-9]*[.]?[0-9]+', x)) if len(re.findall(r'[:][0-9]*[.]?[0-9]+', x)) != 0 else -1)"
      ],
      "execution_count": 458,
      "outputs": []
    },
    {
      "cell_type": "code",
      "metadata": {
        "id": "drQlpL9_fgbL"
      },
      "source": [
        "# Dropping date features improved score\n",
        "train_data.drop('Travel Date', axis=1, inplace=True)\n",
        "test_data.drop('Travel Date', axis=1, inplace=True)"
      ],
      "execution_count": 459,
      "outputs": []
    },
    {
      "cell_type": "code",
      "metadata": {
        "id": "lDmPdNVifx_m"
      },
      "source": [
        "from sklearn.preprocessing import OrdinalEncoder\n",
        "oe=OrdinalEncoder()\n",
        "\n",
        "\n",
        "# Encoding function for few catgeorical features\n",
        "def ordinal_enc(df, col, testing=False):\n",
        "    if testing == False:\n",
        "        df[col] = oe.fit_transform(df[col])\n",
        "        \n",
        "    else:\n",
        "        df[col] = oe.transform(df[col])\n",
        "    return df"
      ],
      "execution_count": 460,
      "outputs": []
    },
    {
      "cell_type": "code",
      "metadata": {
        "id": "CQZIZac4f4ys"
      },
      "source": [
        "cat_feature = ['Start City', 'Package Type', 'Cancellation Rules', 'Destination']\n",
        "\n",
        "# Ordinal Encoding 'cat_feature' columns \n",
        "train_data = ordinal_enc(train_data, cat_feature)\n",
        "test_data = ordinal_enc(test_data, cat_feature)"
      ],
      "execution_count": 461,
      "outputs": []
    },
    {
      "cell_type": "code",
      "metadata": {
        "id": "nk2xYo45gB-I"
      },
      "source": [
        "# Ratio feature of 'Total Sightseeing Places Covered' and 'Total days'\n",
        "train_data['Sightseeing per days'] = train_data['Total Sightseeing Places Covered'] / (train_data['Total days']) \n",
        "\n",
        "# Ratio feature of 'Total Destinations Covered' and 'Total days'\n",
        "train_data['total destination per days'] = train_data['Total Destinations Covered'] / (train_data['Total days'])\n",
        "\n",
        "\n",
        "test_data['Sightseeing per days'] = test_data['Total Sightseeing Places Covered'] / test_data['Total days']\n",
        "test_data['total destination per days'] = test_data['Total Destinations Covered'] / test_data['Total days']"
      ],
      "execution_count": 462,
      "outputs": []
    },
    {
      "cell_type": "code",
      "metadata": {
        "id": "g5neEtSHgCVP"
      },
      "source": [
        "from sklearn.feature_extraction.text import CountVectorizer\n",
        "\n",
        "# Extracting features from text columns using CountVectorizer\n",
        "def CountVect(column, train, test):\n",
        "    vect = CountVectorizer()\n",
        "    \n",
        "    train_feature = vect.fit_transform(train[column])\n",
        "    train_feature = pd.DataFrame(train_feature.todense(), columns=[(column+str(i)) for i in range(len(vect.get_feature_names()))])\n",
        "    train = pd.concat([train, train_feature], axis=1)\n",
        "    \n",
        "    test_feature = vect.transform(test[column])\n",
        "    test_feature = pd.DataFrame(test_feature.todense(), columns=[(column+str(i)) for i in range(len(vect.get_feature_names()))])\n",
        "    test = pd.concat([test, test_feature], axis=1)\n",
        "    \n",
        "    return train, test"
      ],
      "execution_count": 463,
      "outputs": []
    },
    {
      "cell_type": "code",
      "metadata": {
        "id": "8KQV--7VgIJL"
      },
      "source": [
        "# Calling 'CountVec' function for these columns\n",
        "for column in ['Sightseeing Places Covered', 'Hotel Details', 'Package Name', 'Itinerary', 'Airline']:\n",
        "    train_data, test_data = CountVect(column, train_data, test_data)"
      ],
      "execution_count": 464,
      "outputs": []
    },
    {
      "cell_type": "code",
      "metadata": {
        "id": "eVPwrh4SgNDG"
      },
      "source": [
        "# Dropping columns after text feature extraction\n",
        "train_data.drop(['Sightseeing Places Covered', 'Hotel Details', 'Package Name', 'Itinerary','Airline'], axis=1, inplace=True)\n",
        "\n",
        "test_data.drop(['Sightseeing Places Covered', 'Hotel Details', 'Package Name', 'Itinerary','Airline'], axis=1, inplace=True)"
      ],
      "execution_count": 465,
      "outputs": []
    },
    {
      "cell_type": "code",
      "metadata": {
        "colab": {
          "base_uri": "https://localhost:8080/",
          "height": 304
        },
        "id": "S99SBpc-gTrc",
        "outputId": "15419f2a-740a-43a5-fc43-fd0edfcac27f"
      },
      "source": [
        "test_data.head()"
      ],
      "execution_count": 466,
      "outputs": [
        {
          "output_type": "execute_result",
          "data": {
            "text/html": [
              "<div>\n",
              "<style scoped>\n",
              "    .dataframe tbody tr th:only-of-type {\n",
              "        vertical-align: middle;\n",
              "    }\n",
              "\n",
              "    .dataframe tbody tr th {\n",
              "        vertical-align: top;\n",
              "    }\n",
              "\n",
              "    .dataframe thead th {\n",
              "        text-align: right;\n",
              "    }\n",
              "</style>\n",
              "<table border=\"1\" class=\"dataframe\">\n",
              "  <thead>\n",
              "    <tr style=\"text-align: right;\">\n",
              "      <th></th>\n",
              "      <th>Package Type</th>\n",
              "      <th>Destination</th>\n",
              "      <th>Start City</th>\n",
              "      <th>Flight Stops</th>\n",
              "      <th>Meals</th>\n",
              "      <th>Cancellation Rules</th>\n",
              "      <th>Total Destinations Covered</th>\n",
              "      <th>Total Sightseeing Places Covered</th>\n",
              "      <th>Total days</th>\n",
              "      <th>Avg Rating</th>\n",
              "      <th>Sightseeing per days</th>\n",
              "      <th>total destination per days</th>\n",
              "      <th>Sightseeing Places Covered0</th>\n",
              "      <th>Sightseeing Places Covered1</th>\n",
              "      <th>Sightseeing Places Covered2</th>\n",
              "      <th>Sightseeing Places Covered3</th>\n",
              "      <th>Sightseeing Places Covered4</th>\n",
              "      <th>Sightseeing Places Covered5</th>\n",
              "      <th>Sightseeing Places Covered6</th>\n",
              "      <th>Sightseeing Places Covered7</th>\n",
              "      <th>Sightseeing Places Covered8</th>\n",
              "      <th>Sightseeing Places Covered9</th>\n",
              "      <th>Sightseeing Places Covered10</th>\n",
              "      <th>Sightseeing Places Covered11</th>\n",
              "      <th>Sightseeing Places Covered12</th>\n",
              "      <th>Sightseeing Places Covered13</th>\n",
              "      <th>Sightseeing Places Covered14</th>\n",
              "      <th>Sightseeing Places Covered15</th>\n",
              "      <th>Sightseeing Places Covered16</th>\n",
              "      <th>Sightseeing Places Covered17</th>\n",
              "      <th>Sightseeing Places Covered18</th>\n",
              "      <th>Sightseeing Places Covered19</th>\n",
              "      <th>Sightseeing Places Covered20</th>\n",
              "      <th>Sightseeing Places Covered21</th>\n",
              "      <th>Sightseeing Places Covered22</th>\n",
              "      <th>Sightseeing Places Covered23</th>\n",
              "      <th>Sightseeing Places Covered24</th>\n",
              "      <th>Sightseeing Places Covered25</th>\n",
              "      <th>Sightseeing Places Covered26</th>\n",
              "      <th>Sightseeing Places Covered27</th>\n",
              "      <th>...</th>\n",
              "      <th>Airline23</th>\n",
              "      <th>Airline24</th>\n",
              "      <th>Airline25</th>\n",
              "      <th>Airline26</th>\n",
              "      <th>Airline27</th>\n",
              "      <th>Airline28</th>\n",
              "      <th>Airline29</th>\n",
              "      <th>Airline30</th>\n",
              "      <th>Airline31</th>\n",
              "      <th>Airline32</th>\n",
              "      <th>Airline33</th>\n",
              "      <th>Airline34</th>\n",
              "      <th>Airline35</th>\n",
              "      <th>Airline36</th>\n",
              "      <th>Airline37</th>\n",
              "      <th>Airline38</th>\n",
              "      <th>Airline39</th>\n",
              "      <th>Airline40</th>\n",
              "      <th>Airline41</th>\n",
              "      <th>Airline42</th>\n",
              "      <th>Airline43</th>\n",
              "      <th>Airline44</th>\n",
              "      <th>Airline45</th>\n",
              "      <th>Airline46</th>\n",
              "      <th>Airline47</th>\n",
              "      <th>Airline48</th>\n",
              "      <th>Airline49</th>\n",
              "      <th>Airline50</th>\n",
              "      <th>Airline51</th>\n",
              "      <th>Airline52</th>\n",
              "      <th>Airline53</th>\n",
              "      <th>Airline54</th>\n",
              "      <th>Airline55</th>\n",
              "      <th>Airline56</th>\n",
              "      <th>Airline57</th>\n",
              "      <th>Airline58</th>\n",
              "      <th>Airline59</th>\n",
              "      <th>Airline60</th>\n",
              "      <th>Airline61</th>\n",
              "      <th>Airline62</th>\n",
              "    </tr>\n",
              "  </thead>\n",
              "  <tbody>\n",
              "    <tr>\n",
              "      <th>0</th>\n",
              "      <td>2.0</td>\n",
              "      <td>177.0</td>\n",
              "      <td>1.0</td>\n",
              "      <td>0</td>\n",
              "      <td>4</td>\n",
              "      <td>0.0</td>\n",
              "      <td>1</td>\n",
              "      <td>-1</td>\n",
              "      <td>5</td>\n",
              "      <td>4.10</td>\n",
              "      <td>-0.200000</td>\n",
              "      <td>0.200000</td>\n",
              "      <td>0</td>\n",
              "      <td>0</td>\n",
              "      <td>0</td>\n",
              "      <td>0</td>\n",
              "      <td>0</td>\n",
              "      <td>0</td>\n",
              "      <td>0</td>\n",
              "      <td>0</td>\n",
              "      <td>0</td>\n",
              "      <td>0</td>\n",
              "      <td>0</td>\n",
              "      <td>0</td>\n",
              "      <td>0</td>\n",
              "      <td>0</td>\n",
              "      <td>0</td>\n",
              "      <td>0</td>\n",
              "      <td>0</td>\n",
              "      <td>0</td>\n",
              "      <td>0</td>\n",
              "      <td>0</td>\n",
              "      <td>0</td>\n",
              "      <td>0</td>\n",
              "      <td>0</td>\n",
              "      <td>0</td>\n",
              "      <td>0</td>\n",
              "      <td>0</td>\n",
              "      <td>0</td>\n",
              "      <td>0</td>\n",
              "      <td>...</td>\n",
              "      <td>0</td>\n",
              "      <td>0</td>\n",
              "      <td>0</td>\n",
              "      <td>0</td>\n",
              "      <td>0</td>\n",
              "      <td>1</td>\n",
              "      <td>0</td>\n",
              "      <td>0</td>\n",
              "      <td>0</td>\n",
              "      <td>0</td>\n",
              "      <td>0</td>\n",
              "      <td>0</td>\n",
              "      <td>0</td>\n",
              "      <td>0</td>\n",
              "      <td>0</td>\n",
              "      <td>0</td>\n",
              "      <td>0</td>\n",
              "      <td>0</td>\n",
              "      <td>0</td>\n",
              "      <td>0</td>\n",
              "      <td>0</td>\n",
              "      <td>0</td>\n",
              "      <td>0</td>\n",
              "      <td>0</td>\n",
              "      <td>0</td>\n",
              "      <td>0</td>\n",
              "      <td>0</td>\n",
              "      <td>0</td>\n",
              "      <td>0</td>\n",
              "      <td>0</td>\n",
              "      <td>0</td>\n",
              "      <td>0</td>\n",
              "      <td>0</td>\n",
              "      <td>0</td>\n",
              "      <td>0</td>\n",
              "      <td>0</td>\n",
              "      <td>0</td>\n",
              "      <td>0</td>\n",
              "      <td>0</td>\n",
              "      <td>0</td>\n",
              "    </tr>\n",
              "    <tr>\n",
              "      <th>1</th>\n",
              "      <td>2.0</td>\n",
              "      <td>39.0</td>\n",
              "      <td>1.0</td>\n",
              "      <td>0</td>\n",
              "      <td>4</td>\n",
              "      <td>6.0</td>\n",
              "      <td>1</td>\n",
              "      <td>1</td>\n",
              "      <td>2</td>\n",
              "      <td>4.40</td>\n",
              "      <td>0.500000</td>\n",
              "      <td>0.500000</td>\n",
              "      <td>0</td>\n",
              "      <td>0</td>\n",
              "      <td>0</td>\n",
              "      <td>0</td>\n",
              "      <td>0</td>\n",
              "      <td>0</td>\n",
              "      <td>0</td>\n",
              "      <td>0</td>\n",
              "      <td>0</td>\n",
              "      <td>0</td>\n",
              "      <td>0</td>\n",
              "      <td>0</td>\n",
              "      <td>0</td>\n",
              "      <td>0</td>\n",
              "      <td>0</td>\n",
              "      <td>0</td>\n",
              "      <td>0</td>\n",
              "      <td>0</td>\n",
              "      <td>0</td>\n",
              "      <td>0</td>\n",
              "      <td>0</td>\n",
              "      <td>0</td>\n",
              "      <td>0</td>\n",
              "      <td>0</td>\n",
              "      <td>0</td>\n",
              "      <td>0</td>\n",
              "      <td>0</td>\n",
              "      <td>0</td>\n",
              "      <td>...</td>\n",
              "      <td>0</td>\n",
              "      <td>0</td>\n",
              "      <td>0</td>\n",
              "      <td>0</td>\n",
              "      <td>0</td>\n",
              "      <td>0</td>\n",
              "      <td>0</td>\n",
              "      <td>0</td>\n",
              "      <td>0</td>\n",
              "      <td>0</td>\n",
              "      <td>0</td>\n",
              "      <td>0</td>\n",
              "      <td>0</td>\n",
              "      <td>0</td>\n",
              "      <td>0</td>\n",
              "      <td>0</td>\n",
              "      <td>1</td>\n",
              "      <td>0</td>\n",
              "      <td>0</td>\n",
              "      <td>0</td>\n",
              "      <td>0</td>\n",
              "      <td>0</td>\n",
              "      <td>0</td>\n",
              "      <td>0</td>\n",
              "      <td>0</td>\n",
              "      <td>0</td>\n",
              "      <td>0</td>\n",
              "      <td>0</td>\n",
              "      <td>0</td>\n",
              "      <td>0</td>\n",
              "      <td>0</td>\n",
              "      <td>0</td>\n",
              "      <td>0</td>\n",
              "      <td>0</td>\n",
              "      <td>0</td>\n",
              "      <td>0</td>\n",
              "      <td>0</td>\n",
              "      <td>0</td>\n",
              "      <td>0</td>\n",
              "      <td>0</td>\n",
              "    </tr>\n",
              "    <tr>\n",
              "      <th>2</th>\n",
              "      <td>4.0</td>\n",
              "      <td>314.0</td>\n",
              "      <td>1.0</td>\n",
              "      <td>2</td>\n",
              "      <td>3</td>\n",
              "      <td>6.0</td>\n",
              "      <td>1</td>\n",
              "      <td>4</td>\n",
              "      <td>3</td>\n",
              "      <td>-1.00</td>\n",
              "      <td>1.333333</td>\n",
              "      <td>0.333333</td>\n",
              "      <td>0</td>\n",
              "      <td>0</td>\n",
              "      <td>0</td>\n",
              "      <td>0</td>\n",
              "      <td>0</td>\n",
              "      <td>0</td>\n",
              "      <td>0</td>\n",
              "      <td>0</td>\n",
              "      <td>0</td>\n",
              "      <td>0</td>\n",
              "      <td>0</td>\n",
              "      <td>0</td>\n",
              "      <td>0</td>\n",
              "      <td>0</td>\n",
              "      <td>0</td>\n",
              "      <td>0</td>\n",
              "      <td>0</td>\n",
              "      <td>0</td>\n",
              "      <td>0</td>\n",
              "      <td>0</td>\n",
              "      <td>0</td>\n",
              "      <td>0</td>\n",
              "      <td>0</td>\n",
              "      <td>0</td>\n",
              "      <td>0</td>\n",
              "      <td>0</td>\n",
              "      <td>0</td>\n",
              "      <td>0</td>\n",
              "      <td>...</td>\n",
              "      <td>0</td>\n",
              "      <td>0</td>\n",
              "      <td>0</td>\n",
              "      <td>0</td>\n",
              "      <td>0</td>\n",
              "      <td>0</td>\n",
              "      <td>0</td>\n",
              "      <td>0</td>\n",
              "      <td>0</td>\n",
              "      <td>0</td>\n",
              "      <td>0</td>\n",
              "      <td>0</td>\n",
              "      <td>0</td>\n",
              "      <td>0</td>\n",
              "      <td>0</td>\n",
              "      <td>0</td>\n",
              "      <td>1</td>\n",
              "      <td>0</td>\n",
              "      <td>0</td>\n",
              "      <td>0</td>\n",
              "      <td>0</td>\n",
              "      <td>0</td>\n",
              "      <td>0</td>\n",
              "      <td>0</td>\n",
              "      <td>0</td>\n",
              "      <td>0</td>\n",
              "      <td>0</td>\n",
              "      <td>0</td>\n",
              "      <td>0</td>\n",
              "      <td>0</td>\n",
              "      <td>0</td>\n",
              "      <td>0</td>\n",
              "      <td>0</td>\n",
              "      <td>0</td>\n",
              "      <td>0</td>\n",
              "      <td>0</td>\n",
              "      <td>0</td>\n",
              "      <td>0</td>\n",
              "      <td>0</td>\n",
              "      <td>0</td>\n",
              "    </tr>\n",
              "    <tr>\n",
              "      <th>3</th>\n",
              "      <td>1.0</td>\n",
              "      <td>314.0</td>\n",
              "      <td>0.0</td>\n",
              "      <td>1</td>\n",
              "      <td>3</td>\n",
              "      <td>6.0</td>\n",
              "      <td>1</td>\n",
              "      <td>6</td>\n",
              "      <td>3</td>\n",
              "      <td>-1.00</td>\n",
              "      <td>2.000000</td>\n",
              "      <td>0.333333</td>\n",
              "      <td>0</td>\n",
              "      <td>0</td>\n",
              "      <td>0</td>\n",
              "      <td>0</td>\n",
              "      <td>0</td>\n",
              "      <td>0</td>\n",
              "      <td>0</td>\n",
              "      <td>0</td>\n",
              "      <td>0</td>\n",
              "      <td>0</td>\n",
              "      <td>0</td>\n",
              "      <td>0</td>\n",
              "      <td>0</td>\n",
              "      <td>0</td>\n",
              "      <td>0</td>\n",
              "      <td>0</td>\n",
              "      <td>0</td>\n",
              "      <td>0</td>\n",
              "      <td>0</td>\n",
              "      <td>0</td>\n",
              "      <td>0</td>\n",
              "      <td>0</td>\n",
              "      <td>0</td>\n",
              "      <td>0</td>\n",
              "      <td>0</td>\n",
              "      <td>0</td>\n",
              "      <td>0</td>\n",
              "      <td>0</td>\n",
              "      <td>...</td>\n",
              "      <td>0</td>\n",
              "      <td>0</td>\n",
              "      <td>0</td>\n",
              "      <td>0</td>\n",
              "      <td>0</td>\n",
              "      <td>0</td>\n",
              "      <td>0</td>\n",
              "      <td>0</td>\n",
              "      <td>0</td>\n",
              "      <td>0</td>\n",
              "      <td>0</td>\n",
              "      <td>0</td>\n",
              "      <td>0</td>\n",
              "      <td>0</td>\n",
              "      <td>0</td>\n",
              "      <td>0</td>\n",
              "      <td>1</td>\n",
              "      <td>0</td>\n",
              "      <td>0</td>\n",
              "      <td>0</td>\n",
              "      <td>0</td>\n",
              "      <td>0</td>\n",
              "      <td>0</td>\n",
              "      <td>0</td>\n",
              "      <td>0</td>\n",
              "      <td>0</td>\n",
              "      <td>0</td>\n",
              "      <td>0</td>\n",
              "      <td>0</td>\n",
              "      <td>0</td>\n",
              "      <td>0</td>\n",
              "      <td>0</td>\n",
              "      <td>0</td>\n",
              "      <td>0</td>\n",
              "      <td>0</td>\n",
              "      <td>0</td>\n",
              "      <td>0</td>\n",
              "      <td>0</td>\n",
              "      <td>0</td>\n",
              "      <td>0</td>\n",
              "    </tr>\n",
              "    <tr>\n",
              "      <th>4</th>\n",
              "      <td>2.0</td>\n",
              "      <td>87.0</td>\n",
              "      <td>1.0</td>\n",
              "      <td>0</td>\n",
              "      <td>4</td>\n",
              "      <td>0.0</td>\n",
              "      <td>4</td>\n",
              "      <td>10</td>\n",
              "      <td>5</td>\n",
              "      <td>4.55</td>\n",
              "      <td>2.000000</td>\n",
              "      <td>0.800000</td>\n",
              "      <td>0</td>\n",
              "      <td>0</td>\n",
              "      <td>0</td>\n",
              "      <td>0</td>\n",
              "      <td>0</td>\n",
              "      <td>0</td>\n",
              "      <td>0</td>\n",
              "      <td>0</td>\n",
              "      <td>0</td>\n",
              "      <td>0</td>\n",
              "      <td>0</td>\n",
              "      <td>0</td>\n",
              "      <td>0</td>\n",
              "      <td>0</td>\n",
              "      <td>0</td>\n",
              "      <td>0</td>\n",
              "      <td>0</td>\n",
              "      <td>0</td>\n",
              "      <td>0</td>\n",
              "      <td>0</td>\n",
              "      <td>0</td>\n",
              "      <td>0</td>\n",
              "      <td>0</td>\n",
              "      <td>0</td>\n",
              "      <td>0</td>\n",
              "      <td>0</td>\n",
              "      <td>0</td>\n",
              "      <td>0</td>\n",
              "      <td>...</td>\n",
              "      <td>0</td>\n",
              "      <td>0</td>\n",
              "      <td>0</td>\n",
              "      <td>0</td>\n",
              "      <td>0</td>\n",
              "      <td>1</td>\n",
              "      <td>0</td>\n",
              "      <td>0</td>\n",
              "      <td>0</td>\n",
              "      <td>0</td>\n",
              "      <td>0</td>\n",
              "      <td>0</td>\n",
              "      <td>0</td>\n",
              "      <td>0</td>\n",
              "      <td>0</td>\n",
              "      <td>0</td>\n",
              "      <td>0</td>\n",
              "      <td>0</td>\n",
              "      <td>0</td>\n",
              "      <td>0</td>\n",
              "      <td>0</td>\n",
              "      <td>0</td>\n",
              "      <td>0</td>\n",
              "      <td>0</td>\n",
              "      <td>0</td>\n",
              "      <td>0</td>\n",
              "      <td>0</td>\n",
              "      <td>0</td>\n",
              "      <td>0</td>\n",
              "      <td>0</td>\n",
              "      <td>0</td>\n",
              "      <td>0</td>\n",
              "      <td>0</td>\n",
              "      <td>0</td>\n",
              "      <td>0</td>\n",
              "      <td>0</td>\n",
              "      <td>0</td>\n",
              "      <td>0</td>\n",
              "      <td>0</td>\n",
              "      <td>0</td>\n",
              "    </tr>\n",
              "  </tbody>\n",
              "</table>\n",
              "<p>5 rows × 4312 columns</p>\n",
              "</div>"
            ],
            "text/plain": [
              "   Package Type  Destination  Start City  ...  Airline60  Airline61  Airline62\n",
              "0           2.0        177.0         1.0  ...          0          0          0\n",
              "1           2.0         39.0         1.0  ...          0          0          0\n",
              "2           4.0        314.0         1.0  ...          0          0          0\n",
              "3           1.0        314.0         0.0  ...          0          0          0\n",
              "4           2.0         87.0         1.0  ...          0          0          0\n",
              "\n",
              "[5 rows x 4312 columns]"
            ]
          },
          "metadata": {
            "tags": []
          },
          "execution_count": 466
        }
      ]
    },
    {
      "cell_type": "code",
      "metadata": {
        "colab": {
          "base_uri": "https://localhost:8080/"
        },
        "id": "j6oWIvLdgVeZ",
        "outputId": "989d233e-35f5-4327-8d92-08c9fe27d380"
      },
      "source": [
        "train_data.shape"
      ],
      "execution_count": 467,
      "outputs": [
        {
          "output_type": "execute_result",
          "data": {
            "text/plain": [
              "(21000, 4313)"
            ]
          },
          "metadata": {
            "tags": []
          },
          "execution_count": 467
        }
      ]
    },
    {
      "cell_type": "code",
      "metadata": {
        "id": "8ZSUcBHHowi6"
      },
      "source": [
        ""
      ],
      "execution_count": 467,
      "outputs": []
    },
    {
      "cell_type": "code",
      "metadata": {
        "id": "bIHgmwqajeTr"
      },
      "source": [
        "from sklearn.model_selection import KFold\n",
        "from sklearn.ensemble import RandomForestRegressor\n",
        "from sklearn.metrics import mean_squared_log_error\n",
        "from sklearn.linear_model import LinearRegression\n",
        "from sklearn.ensemble import ExtraTreesRegressor\n",
        "from sklearn.ensemble import GradientBoostingRegressor\n",
        "from catboost import CatBoostRegressor\n",
        "from sklearn.linear_model import LassoCV, ElasticNet\n",
        "from sklearn.linear_model import RidgeCV\n",
        "from sklearn.tree import DecisionTreeRegressor\n",
        "from category_encoders import MEstimateEncoder\n",
        "from sklearn.ensemble import StackingRegressor\n",
        "from sklearn.ensemble import VotingRegressor\n",
        "from sklearn.neighbors import KNeighborsRegressor\n",
        "from sklearn.preprocessing import OrdinalEncoder\n",
        "from sklearn.svm import SVR\n",
        "import lightgbm as lgb\n",
        "import xgboost as xgb"
      ],
      "execution_count": 468,
      "outputs": []
    },
    {
      "cell_type": "code",
      "metadata": {
        "id": "1uBRB7oQlEu9"
      },
      "source": [
        "\n",
        "# Separating and storing independent and dependent variable in X and y respectively\n",
        "X, y = train_data.drop('Per Person Price', axis=1), train_data['Per Person Price']"
      ],
      "execution_count": 469,
      "outputs": []
    },
    {
      "cell_type": "code",
      "metadata": {
        "id": "wPpUQycwlT-2"
      },
      "source": [
        "# Stacking regressor function to ensemble LGBM and CatBoost\n",
        "def get_stacking():\n",
        "    level0 = [('lgbm_regressor', lgb.LGBMRegressor(n_estimators=3000, max_depth=11, learning_rate=0.06, num_leaves=40)),\n",
        "               #('XGB_regressor', xgb.XGBRegressor(n_estimators=700, objective='reg:squarederror', max_depth=7, learning_rate=0.06, colsample_bytree=0.9, subsample=0.8)),\n",
        "               ('catboost', CatBoostRegressor(silent=True,learning_rate=0.18, n_estimators=2000, depth=6))]\n",
        "    \n",
        "    level1 = LinearRegression()\n",
        "    model = StackingRegressor(estimators=level0, final_estimator=level1, cv=5)\n",
        "    return model"
      ],
      "execution_count": 470,
      "outputs": []
    },
    {
      "cell_type": "code",
      "metadata": {
        "id": "RHcSDO6Olfe2"
      },
      "source": [
        ""
      ],
      "execution_count": 470,
      "outputs": []
    },
    {
      "cell_type": "markdown",
      "metadata": {
        "id": "7NLZTmkEmAI9"
      },
      "source": [
        "LGBM performance"
      ]
    },
    {
      "cell_type": "code",
      "metadata": {
        "colab": {
          "base_uri": "https://localhost:8080/"
        },
        "id": "ghMUZ44lmBVy",
        "outputId": "65f711b3-9c83-4ef1-cb39-390ea45b70a7"
      },
      "source": [
        "# K-Fold Cross Validation \n",
        "kf = KFold(n_splits=10, shuffle=True)\n",
        "scores = []\n",
        "for fold, (train_index, test_index) in enumerate(kf.split(X, y), 1):\n",
        "    X_train = X.iloc[train_index]\n",
        "    X_train = ordinal_enc(X_train, cat_feature)\n",
        "    \n",
        "    y_train = np.log1p(y.iloc[train_index])\n",
        "    \n",
        "    X_test = X.iloc[test_index]\n",
        "    X_test = ordinal_enc(X_test, cat_feature)\n",
        "\n",
        "    y_test = y.iloc[test_index]\n",
        "    \n",
        "    #model = GradientBoostingRegressor(n_estimators=1000, learning_rate=0.03)\n",
        "    #model = RandomForestRegressor(n_estimators=200, n_jobs=-1)\n",
        "    #model = ElasticNet()\n",
        "    model = lgb.LGBMRegressor(n_estimators=2500, max_depth=11, learning_rate=0.05, num_leaves=40)\n",
        "    #model = xgb.XGBRegressor(n_estimators=590, objective='reg:squarederror', max_depth=7, learning_rate=0.06, min_child_weight=1.2)\n",
        "    #model = get_stacking()\n",
        "    #model = ExtraTreesRegressor(n_estimators=500, bootstrap=True, n_jobs=-1)\n",
        "    #model = LinearRegression()\n",
        "    #model = KNeighborsRegressor(weights='distance', n_neighbors=15)\n",
        "    #model = CatBoostRegressor(silent=True,learning_rate=0.18, n_estimators=1700, depth=6)\n",
        "    model.fit(X_train, y_train)\n",
        "    \n",
        "    pred = model.predict(X_test)\n",
        " \n",
        "    score = np.sqrt(mean_squared_log_error(y_test, np.expm1((pred))))\n",
        "    print(f'RMSLE score for fold {fold} is {score}')\n",
        "    scores.append(score)\n",
        "\n",
        "print(f'Mean RMSLE score is {np.mean(scores)}')"
      ],
      "execution_count": 472,
      "outputs": [
        {
          "output_type": "stream",
          "text": [
            "RMSLE score for fold 1 is 0.1619178432001924\n",
            "RMSLE score for fold 2 is 0.16499806529430805\n",
            "RMSLE score for fold 3 is 0.15806629382688506\n",
            "RMSLE score for fold 4 is 0.1684630853792599\n",
            "RMSLE score for fold 5 is 0.1623543776684303\n",
            "RMSLE score for fold 6 is 0.15595732055854303\n",
            "RMSLE score for fold 7 is 0.16864134376447143\n",
            "RMSLE score for fold 8 is 0.15806910349217085\n",
            "RMSLE score for fold 9 is 0.1599020138518649\n",
            "RMSLE score for fold 10 is 0.16093855973523066\n",
            "Mean RMSLE score is 0.16193080067713567\n"
          ],
          "name": "stdout"
        }
      ]
    },
    {
      "cell_type": "markdown",
      "metadata": {
        "id": "kEvvmDv8rvUC"
      },
      "source": [
        "Model Training and prediction"
      ]
    },
    {
      "cell_type": "code",
      "metadata": {
        "id": "EA09LyhSmEnT"
      },
      "source": [
        ""
      ],
      "execution_count": 476,
      "outputs": []
    },
    {
      "cell_type": "code",
      "metadata": {
        "id": "4dUDc49HrxuJ"
      },
      "source": [
        ""
      ],
      "execution_count": 476,
      "outputs": []
    },
    {
      "cell_type": "code",
      "metadata": {
        "id": "aT-NsWQgr0F2"
      },
      "source": [
        ""
      ],
      "execution_count": 476,
      "outputs": []
    },
    {
      "cell_type": "code",
      "metadata": {
        "id": "9F8RxOQ-r3e8"
      },
      "source": [
        ""
      ],
      "execution_count": 476,
      "outputs": []
    },
    {
      "cell_type": "code",
      "metadata": {
        "id": "8y4Omcgdr_d_"
      },
      "source": [
        ""
      ],
      "execution_count": 476,
      "outputs": []
    },
    {
      "cell_type": "code",
      "metadata": {
        "id": "2m5FhVTXsEDS"
      },
      "source": [
        ""
      ],
      "execution_count": 476,
      "outputs": []
    }
  ]
}